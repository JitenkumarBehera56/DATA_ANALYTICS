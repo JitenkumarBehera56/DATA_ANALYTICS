{
 "cells": [
  {
   "cell_type": "markdown",
   "id": "0518eb8f-d701-45ef-b77c-86d9456de9b0",
   "metadata": {},
   "source": [
    "# Data_Cleaning"
   ]
  },
  {
   "cell_type": "code",
   "execution_count": 3,
   "id": "2168f6f9-9b8d-4515-99d9-d7a09f6f3ba0",
   "metadata": {},
   "outputs": [
    {
     "name": "stdout",
     "output_type": "stream",
     "text": [
      "Initial Dataset Preview:\n",
      "   id  season team1 team2 toss_winner toss_decision winner\n",
      "0   1    2017    MI   RCB          MI           bat     MI\n",
      "1   2    2017   KKR   SRH         KKR         field    KKR\n",
      "2   3    2017   SRH    MI          MI           bat     MI\n",
      "3   4    2017   RCB   KKR         KKR           bat    KKR\n",
      "4   5    2017   KKR   RCB         RCB           bat    KKR\n",
      "\n",
      "Dataset Info:\n",
      "<class 'pandas.core.frame.DataFrame'>\n",
      "RangeIndex: 10 entries, 0 to 9\n",
      "Data columns (total 7 columns):\n",
      " #   Column         Non-Null Count  Dtype \n",
      "---  ------         --------------  ----- \n",
      " 0   id             10 non-null     int64 \n",
      " 1   season         10 non-null     int64 \n",
      " 2   team1          10 non-null     object\n",
      " 3   team2          10 non-null     object\n",
      " 4   toss_winner    10 non-null     object\n",
      " 5   toss_decision  10 non-null     object\n",
      " 6   winner         10 non-null     object\n",
      "dtypes: int64(2), object(5)\n",
      "memory usage: 692.0+ bytes\n",
      "None\n",
      "\n",
      "Missing Values:\n",
      "id               0\n",
      "season           0\n",
      "team1            0\n",
      "team2            0\n",
      "toss_winner      0\n",
      "toss_decision    0\n",
      "winner           0\n",
      "dtype: int64\n",
      "\n",
      "Cleaned Dataset Preview:\n",
      "   id  season team1 team2 toss_winner toss_decision winner\n",
      "0   1    2017    MI   RCB          MI           BAT     MI\n",
      "1   2    2017   KKR   SRH         KKR         FIELD    KKR\n",
      "2   3    2017   SRH    MI          MI           BAT     MI\n",
      "3   4    2017   RCB   KKR         KKR           BAT    KKR\n",
      "4   5    2017   KKR   RCB         RCB           BAT    KKR\n",
      "\n",
      "Cleaned dataset saved to 'Cricdata_cleaned.xlsx'\n"
     ]
    }
   ],
   "source": [
    "# Step 1: Importing Libraries\n",
    "import pandas as pd\n",
    "\n",
    "# Step 2: Load the Dataset (use pd.read_csv for CSV files)\n",
    "file_path = \"C:\\\\Users\\\\jiten\\\\OneDrive\\\\Desktop\\\\Cricdata_excel.csv\"  # Make sure the file is in the correct path\n",
    "df = pd.read_csv(file_path)\n",
    "\n",
    "# Step 3: View Initial Dataset\n",
    "print(\"Initial Dataset Preview:\")\n",
    "print(df.head())\n",
    "print(\"\\nDataset Info:\")\n",
    "print(df.info())\n",
    "\n",
    "# Step 4: Check for Missing Values\n",
    "print(\"\\nMissing Values:\")\n",
    "print(df.isnull().sum())\n",
    "\n",
    "# Step 5: Clean String Columns (Trim Spaces, Convert to Uppercase)\n",
    "df_cleaned = df.copy()\n",
    "for col in df_cleaned.select_dtypes(include='object').columns:\n",
    "    df_cleaned[col] = df_cleaned[col].str.strip().str.upper()\n",
    "\n",
    "# Step 6: Final Cleaned Data Preview\n",
    "print(\"\\nCleaned Dataset Preview:\")\n",
    "print(df_cleaned.head())\n",
    "\n",
    "# Step 7: Save Cleaned Dataset to Excel (optional, if you want to save the cleaned data in Excel format)\n",
    "cleaned_file_path = \"Cricdata_cleaned.xlsx\"\n",
    "df_cleaned.to_excel(cleaned_file_path, index=False)\n",
    "print(f\"\\nCleaned dataset saved to '{cleaned_file_path}'\")\n"
   ]
  },
  {
   "cell_type": "code",
   "execution_count": 7,
   "id": "7929b5be-4591-42b9-b6b0-630c39d890d0",
   "metadata": {},
   "outputs": [],
   "source": [
    "df_cleaned.to_csv(\"Cricdata_cleaned.csv\", index=False)\n"
   ]
  },
  {
   "cell_type": "code",
   "execution_count": null,
   "id": "dc614624-8e81-488d-a06a-8c5bc058ce0d",
   "metadata": {},
   "outputs": [],
   "source": []
  }
 ],
 "metadata": {
  "kernelspec": {
   "display_name": "Python 3 (ipykernel)",
   "language": "python",
   "name": "python3"
  },
  "language_info": {
   "codemirror_mode": {
    "name": "ipython",
    "version": 3
   },
   "file_extension": ".py",
   "mimetype": "text/x-python",
   "name": "python",
   "nbconvert_exporter": "python",
   "pygments_lexer": "ipython3",
   "version": "3.12.7"
  }
 },
 "nbformat": 4,
 "nbformat_minor": 5
}
