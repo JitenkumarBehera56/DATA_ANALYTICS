{
 "cells": [
  {
   "cell_type": "markdown",
   "id": "169fdf5f-537a-4cdb-8f7c-abe7bb03a495",
   "metadata": {},
   "source": [
    "# Python for Pandas[Cric_Data]"
   ]
  },
  {
   "cell_type": "code",
   "execution_count": null,
   "id": "9988701e-b791-4978-872d-7c1a91885280",
   "metadata": {},
   "outputs": [],
   "source": []
  },
  {
   "cell_type": "code",
   "execution_count": 31,
   "id": "53c94e56-7ffd-4da0-b573-d38b5b64377d",
   "metadata": {},
   "outputs": [
    {
     "name": "stdout",
     "output_type": "stream",
     "text": [
      "   id  season team1 team2 toss_winner toss_decision winner\n",
      "0   1    2017    MI   RCB          MI           bat     MI\n",
      "1   2    2017   KKR   SRH         KKR         field    KKR\n",
      "2   3    2017   SRH    MI          MI           bat     MI\n",
      "3   4    2017   RCB   KKR         KKR           bat    KKR\n",
      "4   5    2017   KKR   RCB         RCB           bat    KKR\n"
     ]
    }
   ],
   "source": [
    "# Import the pandas library\n",
    "\n",
    "import pandas as pd  \n",
    "\n",
    "Cricdata_excel = pd.read_csv(r\"C:\\Users\\jiten\\OneDrive\\Desktop\\Cricdata_excel.csv\")   # Load the CSV file\n",
    "\n",
    "print(Cricdata_excel.head())     # Display the first few rows-----> Here the total row is 10 so .head() will print first 5 rows\n",
    "\n"
   ]
  },
  {
   "cell_type": "code",
   "execution_count": null,
   "id": "f406241b-a7ba-4688-a483-d350aa4f00ea",
   "metadata": {},
   "outputs": [],
   "source": []
  },
  {
   "cell_type": "code",
   "execution_count": 21,
   "id": "1e2d9a22-cecd-4cb0-9426-0ed13fd42d0e",
   "metadata": {},
   "outputs": [
    {
     "name": "stdout",
     "output_type": "stream",
     "text": [
      "   id  season team1 team2 toss_winner toss_decision winner\n",
      "0   1    2017    MI   RCB          MI           bat     MI\n",
      "1   2    2017   KKR   SRH         KKR         field    KKR\n"
     ]
    }
   ],
   "source": [
    "\n",
    "print(Cricdata_excel.head(2))    # Display the first 2 rows"
   ]
  },
  {
   "cell_type": "code",
   "execution_count": null,
   "id": "e2585fa6-1d6b-4d7d-a61b-ce3c47caa973",
   "metadata": {},
   "outputs": [],
   "source": []
  },
  {
   "cell_type": "code",
   "execution_count": 20,
   "id": "fa647ce1-46ba-415a-87d4-482a8b604206",
   "metadata": {},
   "outputs": [
    {
     "name": "stdout",
     "output_type": "stream",
     "text": [
      "   id  season team1 team2 toss_winner toss_decision winner\n",
      "0   1    2017    MI   RCB          MI           bat     MI\n"
     ]
    }
   ],
   "source": [
    "\n",
    "print(Cricdata_excel.head(1))     # Display only the first rows  "
   ]
  },
  {
   "cell_type": "code",
   "execution_count": null,
   "id": "e538b7c6-944f-4776-bcbe-7572506197ea",
   "metadata": {},
   "outputs": [],
   "source": []
  },
  {
   "cell_type": "code",
   "execution_count": 33,
   "id": "2a0e5ccd-1f05-4f11-b22d-149fc70a82a6",
   "metadata": {},
   "outputs": [
    {
     "name": "stdout",
     "output_type": "stream",
     "text": [
      "   id  season team1 team2 toss_winner toss_decision winner\n",
      "0   1    2017    MI   RCB          MI           bat     MI\n",
      "1   2    2017   KKR   SRH         KKR         field    KKR\n",
      "2   3    2017   SRH    MI          MI           bat     MI\n",
      "3   4    2017   RCB   KKR         KKR           bat    KKR\n",
      "4   5    2017   KKR   RCB         RCB           bat    KKR\n",
      "5   6    2017   RPS    MI         RPS         field     MI\n",
      "6   7    2017    GT   RPS          GT         field    RPS\n",
      "7   8    2017   LSG    MI          MI         field     MI\n",
      "8   9    2017   RPS   RCB         RCB           bat    RCB\n",
      "9  10    2017   SRH   KKR         KKR           bat    SRH\n"
     ]
    }
   ],
   "source": [
    "print(Cricdata_excel.head(10))        # Display all 10 rows "
   ]
  },
  {
   "cell_type": "code",
   "execution_count": null,
   "id": "d7bcecd9-3b55-4ef7-a829-c224a52a6f62",
   "metadata": {},
   "outputs": [],
   "source": []
  },
  {
   "cell_type": "code",
   "execution_count": 32,
   "id": "c7e236f9",
   "metadata": {},
   "outputs": [
    {
     "name": "stdout",
     "output_type": "stream",
     "text": [
      "   id  season team1 team2 toss_winner toss_decision winner\n",
      "5   6    2017   RPS    MI         RPS         field     MI\n",
      "6   7    2017    GT   RPS          GT         field    RPS\n",
      "7   8    2017   LSG    MI          MI         field     MI\n",
      "8   9    2017   RPS   RCB         RCB           bat    RCB\n",
      "9  10    2017   SRH   KKR         KKR           bat    SRH\n"
     ]
    }
   ],
   "source": [
    "print(Cricdata_excel.tail())          # Display the last few rows-----> Here the total row is 10 so .tail() will print last 5 rows"
   ]
  },
  {
   "cell_type": "code",
   "execution_count": null,
   "id": "f63c8760-9d84-4583-8b67-cf4f51c21f43",
   "metadata": {},
   "outputs": [],
   "source": []
  },
  {
   "cell_type": "code",
   "execution_count": 34,
   "id": "bdc1d2ce-8587-4bfd-b07f-34f8bcf12779",
   "metadata": {},
   "outputs": [
    {
     "name": "stdout",
     "output_type": "stream",
     "text": [
      "   id  season team1 team2 toss_winner toss_decision winner\n",
      "0   1    2017    MI   RCB          MI           bat     MI\n",
      "1   2    2017   KKR   SRH         KKR         field    KKR\n",
      "2   3    2017   SRH    MI          MI           bat     MI\n",
      "3   4    2017   RCB   KKR         KKR           bat    KKR\n",
      "4   5    2017   KKR   RCB         RCB           bat    KKR\n",
      "5   6    2017   RPS    MI         RPS         field     MI\n",
      "6   7    2017    GT   RPS          GT         field    RPS\n",
      "7   8    2017   LSG    MI          MI         field     MI\n",
      "8   9    2017   RPS   RCB         RCB           bat    RCB\n",
      "9  10    2017   SRH   KKR         KKR           bat    SRH\n"
     ]
    }
   ],
   "source": [
    "print(Cricdata_excel.tail(10))        # Display all 10 rows "
   ]
  },
  {
   "cell_type": "code",
   "execution_count": null,
   "id": "536d3d85-82cb-46bb-952e-955089eada36",
   "metadata": {},
   "outputs": [],
   "source": []
  },
  {
   "cell_type": "code",
   "execution_count": 39,
   "id": "777cb604-f840-4812-9c98-0a9dd281caea",
   "metadata": {},
   "outputs": [
    {
     "data": {
      "text/plain": [
       "Index(['id', 'season', 'team1', 'team2', 'toss_winner', 'toss_decision',\n",
       "       'winner'],\n",
       "      dtype='object')"
      ]
     },
     "execution_count": 39,
     "metadata": {},
     "output_type": "execute_result"
    }
   ],
   "source": [
    "Cricdata_excel.columns           #Helps to display all the columns name in the purticular data"
   ]
  },
  {
   "cell_type": "code",
   "execution_count": null,
   "id": "e505ea8a-a21a-4a67-8bda-8f70d3711432",
   "metadata": {},
   "outputs": [],
   "source": []
  },
  {
   "cell_type": "code",
   "execution_count": 41,
   "id": "569e6151-746f-43a2-bb09-230faab99ae1",
   "metadata": {},
   "outputs": [
    {
     "name": "stdout",
     "output_type": "stream",
     "text": [
      "<class 'pandas.core.frame.DataFrame'>\n",
      "RangeIndex: 10 entries, 0 to 9\n",
      "Data columns (total 7 columns):\n",
      " #   Column         Non-Null Count  Dtype \n",
      "---  ------         --------------  ----- \n",
      " 0   id             10 non-null     int64 \n",
      " 1   season         10 non-null     int64 \n",
      " 2   team1          10 non-null     object\n",
      " 3   team2          10 non-null     object\n",
      " 4   toss_winner    10 non-null     object\n",
      " 5   toss_decision  10 non-null     object\n",
      " 6   winner         10 non-null     object\n",
      "dtypes: int64(2), object(5)\n",
      "memory usage: 692.0+ bytes\n"
     ]
    }
   ],
   "source": [
    "Cricdata_excel.info()             #display the information about the purticular data\n"
   ]
  },
  {
   "cell_type": "code",
   "execution_count": null,
   "id": "300dedb5-9038-4a6f-b875-b4b3f34bec7c",
   "metadata": {},
   "outputs": [],
   "source": []
  },
  {
   "cell_type": "code",
   "execution_count": 42,
   "id": "46ae4ef5-1916-4899-84b0-c769fce36bd7",
   "metadata": {},
   "outputs": [
    {
     "data": {
      "text/plain": [
       "(10, 7)"
      ]
     },
     "execution_count": 42,
     "metadata": {},
     "output_type": "execute_result"
    }
   ],
   "source": [
    "Cricdata_excel.shape                #display the size of the data(No. of Rows & Columns)"
   ]
  },
  {
   "cell_type": "code",
   "execution_count": null,
   "id": "65a72898-5333-4888-8551-d0147a64d849",
   "metadata": {},
   "outputs": [],
   "source": []
  },
  {
   "cell_type": "code",
   "execution_count": 43,
   "id": "51bd39d7-d3dd-44eb-b096-60c515b00d66",
   "metadata": {},
   "outputs": [
    {
     "data": {
      "text/plain": [
       "id                int64\n",
       "season            int64\n",
       "team1            object\n",
       "team2            object\n",
       "toss_winner      object\n",
       "toss_decision    object\n",
       "winner           object\n",
       "dtype: object"
      ]
     },
     "execution_count": 43,
     "metadata": {},
     "output_type": "execute_result"
    }
   ],
   "source": [
    "Cricdata_excel.dtypes              #display all the datatypes of each & every column in a separated way"
   ]
  },
  {
   "cell_type": "code",
   "execution_count": null,
   "id": "6dc74543-1e8e-423b-ac6b-9b5d77cf7f8e",
   "metadata": {},
   "outputs": [],
   "source": []
  },
  {
   "cell_type": "code",
   "execution_count": 44,
   "id": "4a19b6a4-0015-4b44-9bb5-ecd741c1e36c",
   "metadata": {},
   "outputs": [
    {
     "data": {
      "text/plain": [
       "RangeIndex(start=0, stop=10, step=1)"
      ]
     },
     "execution_count": 44,
     "metadata": {},
     "output_type": "execute_result"
    }
   ],
   "source": [
    "Cricdata_excel.index                #display the range of the index"
   ]
  },
  {
   "cell_type": "code",
   "execution_count": null,
   "id": "04b37568-1728-4967-8572-e39699caa82a",
   "metadata": {},
   "outputs": [],
   "source": []
  },
  {
   "cell_type": "code",
   "execution_count": 45,
   "id": "f50da0db-b619-4103-84fe-bda4549be997",
   "metadata": {},
   "outputs": [
    {
     "data": {
      "text/plain": [
       "toss_decision\n",
       "bat      6\n",
       "field    4\n",
       "Name: count, dtype: int64"
      ]
     },
     "execution_count": 45,
     "metadata": {},
     "output_type": "execute_result"
    }
   ],
   "source": [
    "# Counting the value based on labels\n",
    "\n",
    "Cricdata_excel.value_counts(\"toss_decision\")"
   ]
  },
  {
   "cell_type": "code",
   "execution_count": null,
   "id": "46d34831-3c80-4f83-93ae-5214b5aedbe1",
   "metadata": {},
   "outputs": [],
   "source": []
  },
  {
   "cell_type": "code",
   "execution_count": 46,
   "id": "14e64c50-3da5-4419-b778-06c12ffdcdec",
   "metadata": {},
   "outputs": [
    {
     "data": {
      "text/plain": [
       "winner\n",
       "MI     4\n",
       "KKR    3\n",
       "RCB    1\n",
       "RPS    1\n",
       "SRH    1\n",
       "Name: count, dtype: int64"
      ]
     },
     "execution_count": 46,
     "metadata": {},
     "output_type": "execute_result"
    }
   ],
   "source": [
    "Cricdata_excel.value_counts(\"winner\")"
   ]
  },
  {
   "cell_type": "code",
   "execution_count": null,
   "id": "a2c0ec5d-b819-483e-bf70-233ea0b9c101",
   "metadata": {},
   "outputs": [],
   "source": []
  },
  {
   "cell_type": "code",
   "execution_count": 55,
   "id": "4bf813ee-c6ef-47d9-87cd-e69a435a30a6",
   "metadata": {},
   "outputs": [
    {
     "data": {
      "text/plain": [
       "5.5"
      ]
     },
     "execution_count": 55,
     "metadata": {},
     "output_type": "execute_result"
    }
   ],
   "source": [
    "Cricdata_excel[\"id\"].mean()             #find the avg. value   "
   ]
  },
  {
   "cell_type": "code",
   "execution_count": 57,
   "id": "436ff0cd-37dd-4c03-bd99-11125bc0a576",
   "metadata": {},
   "outputs": [
    {
     "data": {
      "text/plain": [
       "5.5"
      ]
     },
     "execution_count": 57,
     "metadata": {},
     "output_type": "execute_result"
    }
   ],
   "source": [
    "Cricdata_excel[\"id\"].median()          #choose the mid value"
   ]
  },
  {
   "cell_type": "code",
   "execution_count": 52,
   "id": "4966e666-2b03-41d3-aa5b-6472f3f87542",
   "metadata": {},
   "outputs": [
    {
     "data": {
      "text/plain": [
       "0     1\n",
       "1     2\n",
       "2     3\n",
       "3     4\n",
       "4     5\n",
       "5     6\n",
       "6     7\n",
       "7     8\n",
       "8     9\n",
       "9    10\n",
       "Name: id, dtype: int64"
      ]
     },
     "execution_count": 52,
     "metadata": {},
     "output_type": "execute_result"
    }
   ],
   "source": [
    "Cricdata_excel[\"id\"].mode()           #how many highily accurance value willbe that will be displayed"
   ]
  },
  {
   "cell_type": "code",
   "execution_count": null,
   "id": "cb4ac4c9-2d76-4896-9451-0786ab936327",
   "metadata": {},
   "outputs": [],
   "source": []
  },
  {
   "cell_type": "code",
   "execution_count": 53,
   "id": "d7ff3252-2b42-4010-8eb7-7ca1b9911648",
   "metadata": {},
   "outputs": [
    {
     "data": {
      "text/plain": [
       "id               10\n",
       "season           10\n",
       "team1            10\n",
       "team2            10\n",
       "toss_winner      10\n",
       "toss_decision    10\n",
       "winner           10\n",
       "dtype: int64"
      ]
     },
     "execution_count": 53,
     "metadata": {},
     "output_type": "execute_result"
    }
   ],
   "source": [
    "#count the number of value\n",
    "\n",
    "Cricdata_excel.count()                  # .count() function will help to display the Not_null values"
   ]
  },
  {
   "cell_type": "code",
   "execution_count": null,
   "id": "c251c38c-94ab-4fe1-b1ab-8e3dfbb444c0",
   "metadata": {},
   "outputs": [],
   "source": []
  },
  {
   "cell_type": "code",
   "execution_count": 54,
   "id": "887e4f96-c294-4385-a60d-d7373614c91a",
   "metadata": {},
   "outputs": [
    {
     "data": {
      "text/html": [
       "<div>\n",
       "<style scoped>\n",
       "    .dataframe tbody tr th:only-of-type {\n",
       "        vertical-align: middle;\n",
       "    }\n",
       "\n",
       "    .dataframe tbody tr th {\n",
       "        vertical-align: top;\n",
       "    }\n",
       "\n",
       "    .dataframe thead th {\n",
       "        text-align: right;\n",
       "    }\n",
       "</style>\n",
       "<table border=\"1\" class=\"dataframe\">\n",
       "  <thead>\n",
       "    <tr style=\"text-align: right;\">\n",
       "      <th></th>\n",
       "      <th>id</th>\n",
       "      <th>season</th>\n",
       "    </tr>\n",
       "  </thead>\n",
       "  <tbody>\n",
       "    <tr>\n",
       "      <th>count</th>\n",
       "      <td>10.00000</td>\n",
       "      <td>10.0</td>\n",
       "    </tr>\n",
       "    <tr>\n",
       "      <th>mean</th>\n",
       "      <td>5.50000</td>\n",
       "      <td>2017.0</td>\n",
       "    </tr>\n",
       "    <tr>\n",
       "      <th>std</th>\n",
       "      <td>3.02765</td>\n",
       "      <td>0.0</td>\n",
       "    </tr>\n",
       "    <tr>\n",
       "      <th>min</th>\n",
       "      <td>1.00000</td>\n",
       "      <td>2017.0</td>\n",
       "    </tr>\n",
       "    <tr>\n",
       "      <th>25%</th>\n",
       "      <td>3.25000</td>\n",
       "      <td>2017.0</td>\n",
       "    </tr>\n",
       "    <tr>\n",
       "      <th>50%</th>\n",
       "      <td>5.50000</td>\n",
       "      <td>2017.0</td>\n",
       "    </tr>\n",
       "    <tr>\n",
       "      <th>75%</th>\n",
       "      <td>7.75000</td>\n",
       "      <td>2017.0</td>\n",
       "    </tr>\n",
       "    <tr>\n",
       "      <th>max</th>\n",
       "      <td>10.00000</td>\n",
       "      <td>2017.0</td>\n",
       "    </tr>\n",
       "  </tbody>\n",
       "</table>\n",
       "</div>"
      ],
      "text/plain": [
       "             id  season\n",
       "count  10.00000    10.0\n",
       "mean    5.50000  2017.0\n",
       "std     3.02765     0.0\n",
       "min     1.00000  2017.0\n",
       "25%     3.25000  2017.0\n",
       "50%     5.50000  2017.0\n",
       "75%     7.75000  2017.0\n",
       "max    10.00000  2017.0"
      ]
     },
     "execution_count": 54,
     "metadata": {},
     "output_type": "execute_result"
    }
   ],
   "source": [
    "#All statistical measures about the dataframe\n",
    "\n",
    "Cricdata_excel.describe()"
   ]
  },
  {
   "cell_type": "code",
   "execution_count": null,
   "id": "6f0051be-55a9-43d3-b9eb-2d606b16bb58",
   "metadata": {},
   "outputs": [],
   "source": []
  },
  {
   "cell_type": "code",
   "execution_count": 61,
   "id": "4b170a53-f51f-42f8-915d-6c0332adb0d1",
   "metadata": {},
   "outputs": [
    {
     "data": {
      "text/html": [
       "<div>\n",
       "<style scoped>\n",
       "    .dataframe tbody tr th:only-of-type {\n",
       "        vertical-align: middle;\n",
       "    }\n",
       "\n",
       "    .dataframe tbody tr th {\n",
       "        vertical-align: top;\n",
       "    }\n",
       "\n",
       "    .dataframe thead th {\n",
       "        text-align: right;\n",
       "    }\n",
       "</style>\n",
       "<table border=\"1\" class=\"dataframe\">\n",
       "  <thead>\n",
       "    <tr style=\"text-align: right;\">\n",
       "      <th></th>\n",
       "      <th>id</th>\n",
       "      <th>season</th>\n",
       "      <th>team1</th>\n",
       "      <th>team2</th>\n",
       "      <th>toss_winner</th>\n",
       "      <th>toss_decision</th>\n",
       "      <th>winner</th>\n",
       "    </tr>\n",
       "  </thead>\n",
       "  <tbody>\n",
       "    <tr>\n",
       "      <th>1</th>\n",
       "      <td>2</td>\n",
       "      <td>2017</td>\n",
       "      <td>KKR</td>\n",
       "      <td>SRH</td>\n",
       "      <td>KKR</td>\n",
       "      <td>field</td>\n",
       "      <td>KKR</td>\n",
       "    </tr>\n",
       "    <tr>\n",
       "      <th>2</th>\n",
       "      <td>3</td>\n",
       "      <td>2017</td>\n",
       "      <td>SRH</td>\n",
       "      <td>MI</td>\n",
       "      <td>MI</td>\n",
       "      <td>bat</td>\n",
       "      <td>MI</td>\n",
       "    </tr>\n",
       "    <tr>\n",
       "      <th>3</th>\n",
       "      <td>4</td>\n",
       "      <td>2017</td>\n",
       "      <td>RCB</td>\n",
       "      <td>KKR</td>\n",
       "      <td>KKR</td>\n",
       "      <td>bat</td>\n",
       "      <td>KKR</td>\n",
       "    </tr>\n",
       "    <tr>\n",
       "      <th>4</th>\n",
       "      <td>5</td>\n",
       "      <td>2017</td>\n",
       "      <td>KKR</td>\n",
       "      <td>RCB</td>\n",
       "      <td>RCB</td>\n",
       "      <td>bat</td>\n",
       "      <td>KKR</td>\n",
       "    </tr>\n",
       "    <tr>\n",
       "      <th>5</th>\n",
       "      <td>6</td>\n",
       "      <td>2017</td>\n",
       "      <td>RPS</td>\n",
       "      <td>MI</td>\n",
       "      <td>RPS</td>\n",
       "      <td>field</td>\n",
       "      <td>MI</td>\n",
       "    </tr>\n",
       "  </tbody>\n",
       "</table>\n",
       "</div>"
      ],
      "text/plain": [
       "   id  season team1 team2 toss_winner toss_decision winner\n",
       "1   2    2017   KKR   SRH         KKR         field    KKR\n",
       "2   3    2017   SRH    MI          MI           bat     MI\n",
       "3   4    2017   RCB   KKR         KKR           bat    KKR\n",
       "4   5    2017   KKR   RCB         RCB           bat    KKR\n",
       "5   6    2017   RPS    MI         RPS         field     MI"
      ]
     },
     "execution_count": 61,
     "metadata": {},
     "output_type": "execute_result"
    }
   ],
   "source": [
    "Cricdata_excel.drop(index=0,axis=0).head()"
   ]
  },
  {
   "cell_type": "code",
   "execution_count": 60,
   "id": "09e24d3d-8994-4408-8979-7dc2c3ba3edf",
   "metadata": {},
   "outputs": [
    {
     "data": {
      "text/html": [
       "<div>\n",
       "<style scoped>\n",
       "    .dataframe tbody tr th:only-of-type {\n",
       "        vertical-align: middle;\n",
       "    }\n",
       "\n",
       "    .dataframe tbody tr th {\n",
       "        vertical-align: top;\n",
       "    }\n",
       "\n",
       "    .dataframe thead th {\n",
       "        text-align: right;\n",
       "    }\n",
       "</style>\n",
       "<table border=\"1\" class=\"dataframe\">\n",
       "  <thead>\n",
       "    <tr style=\"text-align: right;\">\n",
       "      <th></th>\n",
       "      <th>id</th>\n",
       "      <th>season</th>\n",
       "      <th>team1</th>\n",
       "      <th>team2</th>\n",
       "      <th>toss_winner</th>\n",
       "      <th>toss_decision</th>\n",
       "      <th>winner</th>\n",
       "    </tr>\n",
       "  </thead>\n",
       "  <tbody>\n",
       "    <tr>\n",
       "      <th>0</th>\n",
       "      <td>1</td>\n",
       "      <td>2017</td>\n",
       "      <td>MI</td>\n",
       "      <td>RCB</td>\n",
       "      <td>MI</td>\n",
       "      <td>bat</td>\n",
       "      <td>MI</td>\n",
       "    </tr>\n",
       "    <tr>\n",
       "      <th>1</th>\n",
       "      <td>2</td>\n",
       "      <td>2017</td>\n",
       "      <td>KKR</td>\n",
       "      <td>SRH</td>\n",
       "      <td>KKR</td>\n",
       "      <td>field</td>\n",
       "      <td>KKR</td>\n",
       "    </tr>\n",
       "    <tr>\n",
       "      <th>2</th>\n",
       "      <td>3</td>\n",
       "      <td>2017</td>\n",
       "      <td>SRH</td>\n",
       "      <td>MI</td>\n",
       "      <td>MI</td>\n",
       "      <td>bat</td>\n",
       "      <td>MI</td>\n",
       "    </tr>\n",
       "    <tr>\n",
       "      <th>3</th>\n",
       "      <td>4</td>\n",
       "      <td>2017</td>\n",
       "      <td>RCB</td>\n",
       "      <td>KKR</td>\n",
       "      <td>KKR</td>\n",
       "      <td>bat</td>\n",
       "      <td>KKR</td>\n",
       "    </tr>\n",
       "    <tr>\n",
       "      <th>5</th>\n",
       "      <td>6</td>\n",
       "      <td>2017</td>\n",
       "      <td>RPS</td>\n",
       "      <td>MI</td>\n",
       "      <td>RPS</td>\n",
       "      <td>field</td>\n",
       "      <td>MI</td>\n",
       "    </tr>\n",
       "  </tbody>\n",
       "</table>\n",
       "</div>"
      ],
      "text/plain": [
       "   id  season team1 team2 toss_winner toss_decision winner\n",
       "0   1    2017    MI   RCB          MI           bat     MI\n",
       "1   2    2017   KKR   SRH         KKR         field    KKR\n",
       "2   3    2017   SRH    MI          MI           bat     MI\n",
       "3   4    2017   RCB   KKR         KKR           bat    KKR\n",
       "5   6    2017   RPS    MI         RPS         field     MI"
      ]
     },
     "execution_count": 60,
     "metadata": {},
     "output_type": "execute_result"
    }
   ],
   "source": [
    "# remove the rows\n",
    "\n",
    "Cricdata_excel.drop(index=4,axis=0).head()"
   ]
  },
  {
   "cell_type": "code",
   "execution_count": null,
   "id": "fa9a6c43-0b7e-4d88-8455-540348cca7ce",
   "metadata": {},
   "outputs": [],
   "source": []
  },
  {
   "cell_type": "code",
   "execution_count": 69,
   "id": "e90facf9-ca38-41b2-a3d2-4a507b7771a1",
   "metadata": {},
   "outputs": [
    {
     "data": {
      "text/html": [
       "<div>\n",
       "<style scoped>\n",
       "    .dataframe tbody tr th:only-of-type {\n",
       "        vertical-align: middle;\n",
       "    }\n",
       "\n",
       "    .dataframe tbody tr th {\n",
       "        vertical-align: top;\n",
       "    }\n",
       "\n",
       "    .dataframe thead th {\n",
       "        text-align: right;\n",
       "    }\n",
       "</style>\n",
       "<table border=\"1\" class=\"dataframe\">\n",
       "  <thead>\n",
       "    <tr style=\"text-align: right;\">\n",
       "      <th></th>\n",
       "      <th>id</th>\n",
       "      <th>team1</th>\n",
       "      <th>team2</th>\n",
       "      <th>toss_winner</th>\n",
       "      <th>winner</th>\n",
       "    </tr>\n",
       "  </thead>\n",
       "  <tbody>\n",
       "    <tr>\n",
       "      <th>0</th>\n",
       "      <td>1</td>\n",
       "      <td>MI</td>\n",
       "      <td>RCB</td>\n",
       "      <td>MI</td>\n",
       "      <td>MI</td>\n",
       "    </tr>\n",
       "    <tr>\n",
       "      <th>1</th>\n",
       "      <td>2</td>\n",
       "      <td>KKR</td>\n",
       "      <td>SRH</td>\n",
       "      <td>KKR</td>\n",
       "      <td>KKR</td>\n",
       "    </tr>\n",
       "    <tr>\n",
       "      <th>2</th>\n",
       "      <td>3</td>\n",
       "      <td>SRH</td>\n",
       "      <td>MI</td>\n",
       "      <td>MI</td>\n",
       "      <td>MI</td>\n",
       "    </tr>\n",
       "    <tr>\n",
       "      <th>3</th>\n",
       "      <td>4</td>\n",
       "      <td>RCB</td>\n",
       "      <td>KKR</td>\n",
       "      <td>KKR</td>\n",
       "      <td>KKR</td>\n",
       "    </tr>\n",
       "    <tr>\n",
       "      <th>4</th>\n",
       "      <td>5</td>\n",
       "      <td>KKR</td>\n",
       "      <td>RCB</td>\n",
       "      <td>RCB</td>\n",
       "      <td>KKR</td>\n",
       "    </tr>\n",
       "  </tbody>\n",
       "</table>\n",
       "</div>"
      ],
      "text/plain": [
       "   id team1 team2 toss_winner winner\n",
       "0   1    MI   RCB          MI     MI\n",
       "1   2   KKR   SRH         KKR    KKR\n",
       "2   3   SRH    MI          MI     MI\n",
       "3   4   RCB   KKR         KKR    KKR\n",
       "4   5   KKR   RCB         RCB    KKR"
      ]
     },
     "execution_count": 69,
     "metadata": {},
     "output_type": "execute_result"
    }
   ],
   "source": [
    "# remove the columns\n",
    "\n",
    "x=Cricdata_excel.drop(columns=[\"season\",\"toss_decision\"],axis=1)\n",
    "y=Cricdata_excel[\"toss_decision\"]\n",
    "x.head()\n"
   ]
  },
  {
   "cell_type": "code",
   "execution_count": null,
   "id": "5508d4eb-b137-4637-96db-73c5026569a4",
   "metadata": {},
   "outputs": [],
   "source": []
  },
  {
   "cell_type": "code",
   "execution_count": 70,
   "id": "fbc789a1-95f7-4dd0-b865-6aa367709ad9",
   "metadata": {},
   "outputs": [
    {
     "data": {
      "text/plain": [
       "0      bat\n",
       "1    field\n",
       "2      bat\n",
       "3      bat\n",
       "4      bat\n",
       "Name: toss_decision, dtype: object"
      ]
     },
     "execution_count": 70,
     "metadata": {},
     "output_type": "execute_result"
    }
   ],
   "source": [
    "y.head()                   #such data are dependant data"
   ]
  },
  {
   "cell_type": "code",
   "execution_count": null,
   "id": "470ede66-5b4d-4470-8820-768462d3b7fb",
   "metadata": {},
   "outputs": [],
   "source": []
  },
  {
   "cell_type": "code",
   "execution_count": 75,
   "id": "6127134d-21d0-4f81-9122-a4941bc4fdcc",
   "metadata": {},
   "outputs": [
    {
     "data": {
      "text/plain": [
       "id                  3\n",
       "season           2017\n",
       "team1             SRH\n",
       "team2              MI\n",
       "toss_winner        MI\n",
       "toss_decision     bat\n",
       "winner             MI\n",
       "Name: 2, dtype: object"
      ]
     },
     "execution_count": 75,
     "metadata": {},
     "output_type": "execute_result"
    }
   ],
   "source": [
    "Cricdata_excel.iloc[2]        #value at index location"
   ]
  },
  {
   "cell_type": "code",
   "execution_count": null,
   "id": "4ee10ebc-87c3-4848-a43a-eedd58a34c43",
   "metadata": {},
   "outputs": [],
   "source": []
  },
  {
   "cell_type": "code",
   "execution_count": 78,
   "id": "7dc63959-d87d-496c-8408-14697816eb51",
   "metadata": {},
   "outputs": [
    {
     "data": {
      "text/plain": [
       "0     MI\n",
       "1    KKR\n",
       "2    SRH\n",
       "3    RCB\n",
       "4    KKR\n",
       "5    RPS\n",
       "6     GT\n",
       "7    LSG\n",
       "8    RPS\n",
       "9    SRH\n",
       "Name: team1, dtype: object"
      ]
     },
     "execution_count": 78,
     "metadata": {},
     "output_type": "execute_result"
    }
   ],
   "source": [
    "#locate the purticular column\n",
    "\n",
    "Cricdata_excel.iloc[:,2]    #3rd column"
   ]
  },
  {
   "cell_type": "code",
   "execution_count": null,
   "id": "3d4688c6-fea4-4a4e-a330-c0065a0cefbc",
   "metadata": {},
   "outputs": [],
   "source": []
  },
  {
   "cell_type": "code",
   "execution_count": 81,
   "id": "9fd92c8f-ea61-4dec-a585-4c61c54f45c5",
   "metadata": {},
   "outputs": [
    {
     "data": {
      "text/html": [
       "<div>\n",
       "<style scoped>\n",
       "    .dataframe tbody tr th:only-of-type {\n",
       "        vertical-align: middle;\n",
       "    }\n",
       "\n",
       "    .dataframe tbody tr th {\n",
       "        vertical-align: top;\n",
       "    }\n",
       "\n",
       "    .dataframe thead th {\n",
       "        text-align: right;\n",
       "    }\n",
       "</style>\n",
       "<table border=\"1\" class=\"dataframe\">\n",
       "  <thead>\n",
       "    <tr style=\"text-align: right;\">\n",
       "      <th></th>\n",
       "      <th>id</th>\n",
       "      <th>season</th>\n",
       "      <th>team1</th>\n",
       "      <th>team2</th>\n",
       "      <th>toss_winner</th>\n",
       "      <th>toss_decision</th>\n",
       "      <th>winner</th>\n",
       "    </tr>\n",
       "  </thead>\n",
       "  <tbody>\n",
       "    <tr>\n",
       "      <th>1</th>\n",
       "      <td>2</td>\n",
       "      <td>2017</td>\n",
       "      <td>KKR</td>\n",
       "      <td>SRH</td>\n",
       "      <td>KKR</td>\n",
       "      <td>field</td>\n",
       "      <td>KKR</td>\n",
       "    </tr>\n",
       "    <tr>\n",
       "      <th>2</th>\n",
       "      <td>3</td>\n",
       "      <td>2017</td>\n",
       "      <td>SRH</td>\n",
       "      <td>MI</td>\n",
       "      <td>MI</td>\n",
       "      <td>bat</td>\n",
       "      <td>MI</td>\n",
       "    </tr>\n",
       "  </tbody>\n",
       "</table>\n",
       "</div>"
      ],
      "text/plain": [
       "   id  season team1 team2 toss_winner toss_decision winner\n",
       "1   2    2017   KKR   SRH         KKR         field    KKR\n",
       "2   3    2017   SRH    MI          MI           bat     MI"
      ]
     },
     "execution_count": 81,
     "metadata": {},
     "output_type": "execute_result"
    }
   ],
   "source": [
    "Cricdata_excel.iloc[1:3]     #split the rows\n",
    " "
   ]
  },
  {
   "cell_type": "code",
   "execution_count": null,
   "id": "1c2ae8fc-e77c-41ee-8b79-cdb234a1fcb4",
   "metadata": {},
   "outputs": [],
   "source": []
  },
  {
   "cell_type": "markdown",
   "id": "d8a276c5-2be4-485b-b95a-a293a156740e",
   "metadata": {},
   "source": [
    "## Data Processing"
   ]
  },
  {
   "cell_type": "code",
   "execution_count": 83,
   "id": "1086a6c1-feaa-478b-a300-2356e4dc2bff",
   "metadata": {},
   "outputs": [
    {
     "data": {
      "text/html": [
       "<div>\n",
       "<style scoped>\n",
       "    .dataframe tbody tr th:only-of-type {\n",
       "        vertical-align: middle;\n",
       "    }\n",
       "\n",
       "    .dataframe tbody tr th {\n",
       "        vertical-align: top;\n",
       "    }\n",
       "\n",
       "    .dataframe thead th {\n",
       "        text-align: right;\n",
       "    }\n",
       "</style>\n",
       "<table border=\"1\" class=\"dataframe\">\n",
       "  <thead>\n",
       "    <tr style=\"text-align: right;\">\n",
       "      <th></th>\n",
       "      <th>id</th>\n",
       "      <th>season</th>\n",
       "      <th>team1</th>\n",
       "      <th>team2</th>\n",
       "      <th>toss_winner</th>\n",
       "      <th>toss_decision</th>\n",
       "      <th>winner</th>\n",
       "    </tr>\n",
       "  </thead>\n",
       "  <tbody>\n",
       "    <tr>\n",
       "      <th>0</th>\n",
       "      <td>False</td>\n",
       "      <td>False</td>\n",
       "      <td>False</td>\n",
       "      <td>False</td>\n",
       "      <td>False</td>\n",
       "      <td>False</td>\n",
       "      <td>False</td>\n",
       "    </tr>\n",
       "    <tr>\n",
       "      <th>1</th>\n",
       "      <td>False</td>\n",
       "      <td>False</td>\n",
       "      <td>False</td>\n",
       "      <td>False</td>\n",
       "      <td>False</td>\n",
       "      <td>False</td>\n",
       "      <td>False</td>\n",
       "    </tr>\n",
       "    <tr>\n",
       "      <th>2</th>\n",
       "      <td>False</td>\n",
       "      <td>False</td>\n",
       "      <td>False</td>\n",
       "      <td>False</td>\n",
       "      <td>False</td>\n",
       "      <td>False</td>\n",
       "      <td>False</td>\n",
       "    </tr>\n",
       "    <tr>\n",
       "      <th>3</th>\n",
       "      <td>False</td>\n",
       "      <td>False</td>\n",
       "      <td>False</td>\n",
       "      <td>False</td>\n",
       "      <td>False</td>\n",
       "      <td>False</td>\n",
       "      <td>False</td>\n",
       "    </tr>\n",
       "    <tr>\n",
       "      <th>4</th>\n",
       "      <td>False</td>\n",
       "      <td>False</td>\n",
       "      <td>False</td>\n",
       "      <td>False</td>\n",
       "      <td>False</td>\n",
       "      <td>False</td>\n",
       "      <td>False</td>\n",
       "    </tr>\n",
       "    <tr>\n",
       "      <th>5</th>\n",
       "      <td>False</td>\n",
       "      <td>False</td>\n",
       "      <td>False</td>\n",
       "      <td>False</td>\n",
       "      <td>False</td>\n",
       "      <td>False</td>\n",
       "      <td>False</td>\n",
       "    </tr>\n",
       "    <tr>\n",
       "      <th>6</th>\n",
       "      <td>False</td>\n",
       "      <td>False</td>\n",
       "      <td>False</td>\n",
       "      <td>False</td>\n",
       "      <td>False</td>\n",
       "      <td>False</td>\n",
       "      <td>False</td>\n",
       "    </tr>\n",
       "    <tr>\n",
       "      <th>7</th>\n",
       "      <td>False</td>\n",
       "      <td>False</td>\n",
       "      <td>False</td>\n",
       "      <td>False</td>\n",
       "      <td>False</td>\n",
       "      <td>False</td>\n",
       "      <td>False</td>\n",
       "    </tr>\n",
       "    <tr>\n",
       "      <th>8</th>\n",
       "      <td>False</td>\n",
       "      <td>False</td>\n",
       "      <td>False</td>\n",
       "      <td>False</td>\n",
       "      <td>False</td>\n",
       "      <td>False</td>\n",
       "      <td>False</td>\n",
       "    </tr>\n",
       "    <tr>\n",
       "      <th>9</th>\n",
       "      <td>False</td>\n",
       "      <td>False</td>\n",
       "      <td>False</td>\n",
       "      <td>False</td>\n",
       "      <td>False</td>\n",
       "      <td>False</td>\n",
       "      <td>False</td>\n",
       "    </tr>\n",
       "  </tbody>\n",
       "</table>\n",
       "</div>"
      ],
      "text/plain": [
       "      id  season  team1  team2  toss_winner  toss_decision  winner\n",
       "0  False   False  False  False        False          False   False\n",
       "1  False   False  False  False        False          False   False\n",
       "2  False   False  False  False        False          False   False\n",
       "3  False   False  False  False        False          False   False\n",
       "4  False   False  False  False        False          False   False\n",
       "5  False   False  False  False        False          False   False\n",
       "6  False   False  False  False        False          False   False\n",
       "7  False   False  False  False        False          False   False\n",
       "8  False   False  False  False        False          False   False\n",
       "9  False   False  False  False        False          False   False"
      ]
     },
     "execution_count": 83,
     "metadata": {},
     "output_type": "execute_result"
    }
   ],
   "source": [
    "Cricdata_excel.isnull()           #help to display true/false. True-->Null Value , False-->No Null value"
   ]
  },
  {
   "cell_type": "code",
   "execution_count": null,
   "id": "e73a2c9f-0f40-44d0-82f9-d38797c19d93",
   "metadata": {},
   "outputs": [],
   "source": []
  },
  {
   "cell_type": "code",
   "execution_count": 84,
   "id": "24723dc8-9953-403f-a902-c20177e3b9b4",
   "metadata": {},
   "outputs": [
    {
     "data": {
      "text/plain": [
       "id               0\n",
       "season           0\n",
       "team1            0\n",
       "team2            0\n",
       "toss_winner      0\n",
       "toss_decision    0\n",
       "winner           0\n",
       "dtype: int64"
      ]
     },
     "execution_count": 84,
     "metadata": {},
     "output_type": "execute_result"
    }
   ],
   "source": [
    "Cricdata_excel.isnull().sum()            #helps to display the count of the null value each & every columns"
   ]
  },
  {
   "cell_type": "code",
   "execution_count": null,
   "id": "f8b18043-af23-4080-98c3-c77faf06e336",
   "metadata": {},
   "outputs": [],
   "source": []
  },
  {
   "cell_type": "code",
   "execution_count": 86,
   "id": "3410c735-56bf-477a-8507-fe19839cd1ec",
   "metadata": {},
   "outputs": [],
   "source": [
    "#dropna---> It will help to remove all the null values\n",
    "\n",
    "Cricdata_excel= Cricdata_excel.dropna()       # But here in this no null value is present"
   ]
  },
  {
   "cell_type": "code",
   "execution_count": null,
   "id": "7b496d0a-cc43-49d9-a8f6-b4194d8eef44",
   "metadata": {},
   "outputs": [],
   "source": []
  },
  {
   "cell_type": "code",
   "execution_count": 94,
   "id": "d50a4f4d-64f6-4ab8-bb47-fed4f46081bc",
   "metadata": {},
   "outputs": [
    {
     "data": {
      "text/plain": [
       "0    False\n",
       "1    False\n",
       "2    False\n",
       "3    False\n",
       "4    False\n",
       "5    False\n",
       "6    False\n",
       "7    False\n",
       "8    False\n",
       "9    False\n",
       "dtype: bool"
      ]
     },
     "execution_count": 94,
     "metadata": {},
     "output_type": "execute_result"
    }
   ],
   "source": [
    "\n",
    "\n",
    "Cricdata_excel.duplicated()"
   ]
  },
  {
   "cell_type": "code",
   "execution_count": null,
   "id": "532ae287-5094-4ed0-bfe2-3f79115eebdf",
   "metadata": {},
   "outputs": [],
   "source": []
  },
  {
   "cell_type": "code",
   "execution_count": 92,
   "id": "1a9ce901-6711-47e0-9408-b4cc84b36433",
   "metadata": {},
   "outputs": [
    {
     "data": {
      "text/plain": [
       "0"
      ]
     },
     "execution_count": 92,
     "metadata": {},
     "output_type": "execute_result"
    }
   ],
   "source": [
    "Cricdata_excel.duplicated().sum()      #Here no duplicate value is present so it displays 0"
   ]
  },
  {
   "cell_type": "code",
   "execution_count": 93,
   "id": "77292066-dc0e-4a67-b249-aef11858b2de",
   "metadata": {},
   "outputs": [
    {
     "data": {
      "text/plain": [
       "<bound method DataFrame.drop_duplicates of    id  season team1 team2 toss_winner toss_decision winner\n",
       "0   1    2017    MI   RCB          MI           bat     MI\n",
       "1   2    2017   KKR   SRH         KKR         field    KKR\n",
       "2   3    2017   SRH    MI          MI           bat     MI\n",
       "3   4    2017   RCB   KKR         KKR           bat    KKR\n",
       "4   5    2017   KKR   RCB         RCB           bat    KKR\n",
       "5   6    2017   RPS    MI         RPS         field     MI\n",
       "6   7    2017    GT   RPS          GT         field    RPS\n",
       "7   8    2017   LSG    MI          MI         field     MI\n",
       "8   9    2017   RPS   RCB         RCB           bat    RCB\n",
       "9  10    2017   SRH   KKR         KKR           bat    SRH>"
      ]
     },
     "execution_count": 93,
     "metadata": {},
     "output_type": "execute_result"
    }
   ],
   "source": [
    "Cricdata_excel.drop_duplicates        #Help to drop all the duplicate values"
   ]
  },
  {
   "cell_type": "code",
   "execution_count": null,
   "id": "506331cb-26f2-48fb-80a1-c827d30c6a72",
   "metadata": {},
   "outputs": [],
   "source": []
  }
 ],
 "metadata": {
  "kernelspec": {
   "display_name": "Python 3 (ipykernel)",
   "language": "python",
   "name": "python3"
  },
  "language_info": {
   "codemirror_mode": {
    "name": "ipython",
    "version": 3
   },
   "file_extension": ".py",
   "mimetype": "text/x-python",
   "name": "python",
   "nbconvert_exporter": "python",
   "pygments_lexer": "ipython3",
   "version": "3.12.7"
  }
 },
 "nbformat": 4,
 "nbformat_minor": 5
}
