{
 "cells": [
  {
   "cell_type": "markdown",
   "id": "a22b6caa-4e00-44a7-a6cd-3017c9712aaa",
   "metadata": {},
   "source": [
    "## DataFrame Creation"
   ]
  },
  {
   "cell_type": "code",
   "execution_count": 19,
   "id": "54290739-7072-4aa7-b2f4-d151f0c7623c",
   "metadata": {},
   "outputs": [
    {
     "name": "stdout",
     "output_type": "stream",
     "text": [
      "        name          role\n",
      "chr1    Jeet        Player\n",
      "chr2   Rohit       Captain\n",
      "chr3  Hardik  Vice-Captain\n"
     ]
    }
   ],
   "source": [
    "import pandas as pd\n",
    "data={\"name\":[\"Jeet\",\"Rohit\",\"Hardik\"],\"role\":[\"Player\",\"Captain\",\"Vice-Captain\"]}\n",
    "df1=pd.DataFrame(data,index=[\"chr1\",\"chr2\",\"chr3\"])\n",
    "print(df1)"
   ]
  },
  {
   "cell_type": "code",
   "execution_count": 11,
   "id": "73a81f71-e45c-4851-bf21-2259c9e149e1",
   "metadata": {},
   "outputs": [
    {
     "name": "stdout",
     "output_type": "stream",
     "text": [
      "     name          role\n",
      "0    Jeet        Player\n",
      "1   Rohit       Captain\n",
      "2  Hardik  Vice-Captain\n"
     ]
    }
   ],
   "source": [
    "import pandas as pd\n",
    "data={\"name\":[\"Jeet\",\"Rohit\",\"Hardik\"],\"role\":[\"Player\",\"Captain\",\"Vice-Captain\"]}\n",
    "df1=pd.DataFrame(data)\n",
    "print(df1)"
   ]
  },
  {
   "cell_type": "code",
   "execution_count": 16,
   "id": "896fcc09-0754-4c66-902a-2bc2d2136cd7",
   "metadata": {},
   "outputs": [
    {
     "name": "stdout",
     "output_type": "stream",
     "text": [
      "name      Rohit\n",
      "role    Captain\n",
      "Name: chr2, dtype: object\n"
     ]
    }
   ],
   "source": [
    "import pandas as pd\n",
    "data={\"name\":[\"Jeet\",\"Rohit\",\"Hardik\"],\"role\":[\"Player\",\"Captain\",\"Vice-Captain\"]}\n",
    "df1=pd.DataFrame(data,index=[\"chr1\",\"chr2\",\"chr3\"])\n",
    "\n",
    "# Only print row with index 'chr2'\n",
    "\n",
    "print(df1.loc[\"chr2\"])\n"
   ]
  },
  {
   "cell_type": "code",
   "execution_count": 18,
   "id": "0973b4b2-581c-45c2-91a3-81a3bcda0f8d",
   "metadata": {},
   "outputs": [
    {
     "name": "stdout",
     "output_type": "stream",
     "text": [
      "name      Jeet\n",
      "role    Player\n",
      "Name: 0, dtype: object\n"
     ]
    }
   ],
   "source": [
    "import pandas as pd\n",
    "data={\"name\":[\"Jeet\",\"Rohit\",\"Hardik\"],\"role\":[\"Player\",\"Captain\",\"Vice-Captain\"]}\n",
    "df1=pd.DataFrame(data)\n",
    "print(df1.loc[0])"
   ]
  },
  {
   "cell_type": "markdown",
   "id": "21185aeb-083a-4751-9bd9-d0fcd05e332a",
   "metadata": {},
   "source": [
    "## Series Creation"
   ]
  },
  {
   "cell_type": "code",
   "execution_count": 25,
   "id": "fbaa812b-686b-4db9-9b77-113bd603fd27",
   "metadata": {},
   "outputs": [
    {
     "name": "stdout",
     "output_type": "stream",
     "text": [
      "0    P\n",
      "1    A\n",
      "2    N\n",
      "3    T\n",
      "4    E\n",
      "5    C\n",
      "6    H\n",
      "dtype: object\n"
     ]
    }
   ],
   "source": [
    "\n",
    "import numpy as np\n",
    "info=np.array([\"P\",\"A\",\"N\",\"T\",\"E\",\"C\",\"H\"])\n",
    "a=pd.Series(info)\n",
    "print(a)"
   ]
  },
  {
   "cell_type": "code",
   "execution_count": null,
   "id": "7510f6ae-82c5-4295-acba-fc9fc641a9ad",
   "metadata": {},
   "outputs": [],
   "source": []
  }
 ],
 "metadata": {
  "kernelspec": {
   "display_name": "Python 3 (ipykernel)",
   "language": "python",
   "name": "python3"
  },
  "language_info": {
   "codemirror_mode": {
    "name": "ipython",
    "version": 3
   },
   "file_extension": ".py",
   "mimetype": "text/x-python",
   "name": "python",
   "nbconvert_exporter": "python",
   "pygments_lexer": "ipython3",
   "version": "3.12.7"
  }
 },
 "nbformat": 4,
 "nbformat_minor": 5
}
