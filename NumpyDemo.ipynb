{
 "cells": [
  {
   "cell_type": "markdown",
   "id": "204e6189-44f9-4459-939d-79513e545d45",
   "metadata": {},
   "source": [
    "# Numpy_Libraries"
   ]
  },
  {
   "cell_type": "code",
   "execution_count": 6,
   "id": "27a1c836-90ec-4ef6-b9d8-2e1eb821b6c9",
   "metadata": {},
   "outputs": [
    {
     "name": "stdout",
     "output_type": "stream",
     "text": [
      "<class 'numpy.ndarray'>\n"
     ]
    }
   ],
   "source": [
    "import numpy as np\n",
    "\n",
    "#numpy array\n",
    "a=np.array([1,2,3,4,5,6,7,8])     # .array() will help to create the NumPy Array\n",
    "a\n",
    "print(type(a))"
   ]
  },
  {
   "cell_type": "code",
   "execution_count": 7,
   "id": "dbd476b8-61ed-4623-b90d-bc87a525cbe2",
   "metadata": {},
   "outputs": [
    {
     "data": {
      "text/plain": [
       "1"
      ]
     },
     "execution_count": 7,
     "metadata": {},
     "output_type": "execute_result"
    }
   ],
   "source": [
    "a[0]    #indexing"
   ]
  },
  {
   "cell_type": "code",
   "execution_count": 8,
   "id": "2dcd4670-b104-47c2-8cf9-99913fb7f79e",
   "metadata": {},
   "outputs": [
    {
     "data": {
      "text/plain": [
       "(8,)"
      ]
     },
     "execution_count": 8,
     "metadata": {},
     "output_type": "execute_result"
    }
   ],
   "source": [
    "a.shape   #Find the shape of the array"
   ]
  },
  {
   "cell_type": "code",
   "execution_count": null,
   "id": "18b0aa8e-c2fe-4eef-9761-e27bc94eb384",
   "metadata": {},
   "outputs": [],
   "source": []
  },
  {
   "cell_type": "code",
   "execution_count": 7,
   "id": "b6ef69a1-16b0-467f-9be4-6592f99c5726",
   "metadata": {},
   "outputs": [
    {
     "name": "stdout",
     "output_type": "stream",
     "text": [
      "[[ 1  2  3  4  5]\n",
      " [ 6  7  8  9 10]]\n"
     ]
    }
   ],
   "source": [
    "b=np.array([[1,2,3,4,5],[6,7,8,9,10]])\n",
    "print(b)"
   ]
  },
  {
   "cell_type": "code",
   "execution_count": 10,
   "id": "c3bdd439-c094-47f4-a0af-43ac188c6b1a",
   "metadata": {},
   "outputs": [
    {
     "name": "stdout",
     "output_type": "stream",
     "text": [
      "4\n",
      "9\n",
      "5\n",
      "7\n"
     ]
    }
   ],
   "source": [
    "print(b[0,3])\n",
    "print(b[1,3])\n",
    "print(b[0,4])\n",
    "print(b[1,1])"
   ]
  },
  {
   "cell_type": "code",
   "execution_count": 11,
   "id": "78b5ff19-81df-4b15-b881-9c66c894f7c3",
   "metadata": {},
   "outputs": [
    {
     "data": {
      "text/plain": [
       "(2, 5)"
      ]
     },
     "execution_count": 11,
     "metadata": {},
     "output_type": "execute_result"
    }
   ],
   "source": [
    "b.shape"
   ]
  },
  {
   "cell_type": "code",
   "execution_count": null,
   "id": "c90598c7-b21c-449b-9ddd-1fec62b7511f",
   "metadata": {},
   "outputs": [],
   "source": []
  },
  {
   "cell_type": "code",
   "execution_count": 8,
   "id": "91bf7ae8-76d4-48f6-ad9f-efc7b93929de",
   "metadata": {},
   "outputs": [
    {
     "name": "stdout",
     "output_type": "stream",
     "text": [
      "[2 3 4]\n"
     ]
    }
   ],
   "source": [
    "#array slicing\n",
    "\n",
    "print(b[0,1:4])"
   ]
  },
  {
   "cell_type": "code",
   "execution_count": 9,
   "id": "13024ebf-ebac-4c83-b076-92eff7544806",
   "metadata": {},
   "outputs": [
    {
     "name": "stdout",
     "output_type": "stream",
     "text": [
      "[8 9]\n"
     ]
    }
   ],
   "source": [
    "print(b[1,2:4])"
   ]
  },
  {
   "cell_type": "code",
   "execution_count": null,
   "id": "37883bfe-ae9a-487e-a03f-bf52a84c7f4d",
   "metadata": {},
   "outputs": [],
   "source": []
  },
  {
   "cell_type": "code",
   "execution_count": 14,
   "id": "194db49f-5202-41e9-9f10-8ed977b316cf",
   "metadata": {},
   "outputs": [
    {
     "data": {
      "text/plain": [
       "array([[ 1,  2,  3,  4,  5],\n",
       "       [ 6,  7,  8,  9, 10]])"
      ]
     },
     "execution_count": 14,
     "metadata": {},
     "output_type": "execute_result"
    }
   ],
   "source": [
    "#data type\n",
    "\n",
    "c=np.array([[1,2,3,4,5.9],[6,7,8.7,9,10]],dtype='int')\n",
    "c"
   ]
  },
  {
   "cell_type": "code",
   "execution_count": 15,
   "id": "2e187b6b-48ed-4f79-9fd3-423f57a68c45",
   "metadata": {},
   "outputs": [
    {
     "data": {
      "text/plain": [
       "array([[ 1. ,  2. ,  3. ,  4. ,  5.9],\n",
       "       [ 6. ,  7. ,  8.7,  9. , 10. ]])"
      ]
     },
     "execution_count": 15,
     "metadata": {},
     "output_type": "execute_result"
    }
   ],
   "source": [
    "c=np.array([[1,2,3,4,5.9],[6,7,8.7,9,10]],dtype='float')\n",
    "c"
   ]
  },
  {
   "cell_type": "code",
   "execution_count": 16,
   "id": "14c7d21d-3fd4-43f5-855c-b2cc291f73c6",
   "metadata": {},
   "outputs": [
    {
     "name": "stdout",
     "output_type": "stream",
     "text": [
      "[1 2 3 4 5 6 7 8]\n"
     ]
    }
   ],
   "source": [
    "newarr=a.astype(\"i\")\n",
    "#newarr=a.astype(\"int\")\n",
    "#newarr=a.astype(\"float\")\n",
    "#newarr=a.astype(\"bool\")\n",
    "print(newarr)"
   ]
  },
  {
   "cell_type": "code",
   "execution_count": null,
   "id": "52a7e68e-069f-46e7-bc81-1567f59d89f6",
   "metadata": {},
   "outputs": [],
   "source": []
  },
  {
   "cell_type": "code",
   "execution_count": 17,
   "id": "95b86467-47dc-452e-b262-0c44ee8783fd",
   "metadata": {},
   "outputs": [
    {
     "name": "stdout",
     "output_type": "stream",
     "text": [
      "[[1 2 3]\n",
      " [4 5 6]\n",
      " [7 8 9]]\n"
     ]
    }
   ],
   "source": [
    "#1D-2D reshape\n",
    "\n",
    "arr=np.array([1,2,3,4,5,6,7,8,9])       \n",
    "x=arr.reshape(3,3)\n",
    "print(x)"
   ]
  },
  {
   "cell_type": "code",
   "execution_count": null,
   "id": "44da4634-187f-407b-80c1-08223727dfed",
   "metadata": {},
   "outputs": [],
   "source": []
  },
  {
   "cell_type": "code",
   "execution_count": 18,
   "id": "93146688-7904-44ec-be43-3f9fb6fc76cb",
   "metadata": {},
   "outputs": [
    {
     "name": "stdout",
     "output_type": "stream",
     "text": [
      "[ 1  2  3  4  5  6  7  8  9 10]\n"
     ]
    }
   ],
   "source": [
    "#multi-1D\n",
    "\n",
    "y=b.reshape(-1)            # .reshape(-1) will help to display 2-D into the 1-D\n",
    "print(y)"
   ]
  },
  {
   "cell_type": "code",
   "execution_count": null,
   "id": "ca81839c-2645-44af-8271-7830a3514231",
   "metadata": {},
   "outputs": [],
   "source": []
  },
  {
   "cell_type": "code",
   "execution_count": 19,
   "id": "81cf35e3-e2c5-4cac-b036-d802a68974f5",
   "metadata": {},
   "outputs": [
    {
     "name": "stdout",
     "output_type": "stream",
     "text": [
      "1\n",
      "2\n",
      "3\n",
      "4\n",
      "5\n",
      "6\n",
      "7\n",
      "8\n",
      "9\n"
     ]
    }
   ],
   "source": [
    "#iteratting array\n",
    "                 #Sequence:- Collection of Datatype/values\n",
    "\n",
    "for i in arr:    # i-->Iterating Variable   arr-->Sequence Variable        \n",
    "    print(i)"
   ]
  },
  {
   "cell_type": "code",
   "execution_count": null,
   "id": "6a8fa507-1fea-4d3b-a2ee-46a266034b4b",
   "metadata": {},
   "outputs": [],
   "source": []
  },
  {
   "cell_type": "code",
   "execution_count": 20,
   "id": "4c1964a3-9506-47b1-8725-147e58ab06ba",
   "metadata": {},
   "outputs": [
    {
     "name": "stdout",
     "output_type": "stream",
     "text": [
      "[10 20 30 40 50 60 70 80]\n"
     ]
    }
   ],
   "source": [
    "#join array\n",
    "\n",
    "a=np.array([10,20,30,40])\n",
    "b=np.array([50,60,70,80])\n",
    "\n",
    "c=np.concatenate((a,b),axis=0)   #adding two 1-D arr in Row wise \n",
    "#c=np.stack((a,b),axis=1)         #adding two 1-D arr in Column wise\n",
    "\n",
    "print(c)\n"
   ]
  },
  {
   "cell_type": "code",
   "execution_count": null,
   "id": "25e81b90-fb1e-4661-8c03-258769e6956b",
   "metadata": {},
   "outputs": [],
   "source": []
  },
  {
   "cell_type": "code",
   "execution_count": 21,
   "id": "9544d48f-3de9-4204-8e1d-07e4ab942940",
   "metadata": {},
   "outputs": [
    {
     "name": "stdout",
     "output_type": "stream",
     "text": [
      "[[[1 5]\n",
      "  [2 6]]\n",
      "\n",
      " [[3 7]\n",
      "  [4 8]]]\n"
     ]
    }
   ],
   "source": [
    "a=np.array([[1,2],[3,4]])\n",
    "b=np.array([[5,6],[7,8]])\n",
    "\n",
    "#c=np.concatenate((a,b),axis=0)   #adding two 2-D arr in Row wise \n",
    "#c=np.concatenate((a,b),axis=1)   #adding two 1-D arr in Column wise\n",
    "\n",
    "#c=np.vstack((a,b))        #Vertital Stack(Row-Wise)-->along axis 0\n",
    "#c=np.hstack((a,b))         #Horizontal Stack(Column-Wise)-->along axis 1\n",
    "c=np.dstack((a,b))        #Depth Stack(Depth-Wise)---> 3D Structure-->along axis 2\n",
    "\n",
    "print(c)\n"
   ]
  },
  {
   "cell_type": "code",
   "execution_count": null,
   "id": "ca4e30a2-e294-4488-ae3f-a3698b3bc89e",
   "metadata": {},
   "outputs": [],
   "source": []
  },
  {
   "cell_type": "code",
   "execution_count": 22,
   "id": "06736651-e49b-4b6c-b277-7b50beb7c424",
   "metadata": {},
   "outputs": [
    {
     "name": "stdout",
     "output_type": "stream",
     "text": [
      "[10 40 50 60]\n"
     ]
    }
   ],
   "source": [
    "#sort array\n",
    "\n",
    "a=np.array([50,40,60,10]) \n",
    "print(np.sort(a))           # .sort() function will make the ascending order"
   ]
  },
  {
   "cell_type": "code",
   "execution_count": null,
   "id": "c3b29574-6363-4a26-b640-af8fc8d8c9b6",
   "metadata": {},
   "outputs": [],
   "source": []
  },
  {
   "cell_type": "code",
   "execution_count": 23,
   "id": "b81aef66-1763-4f54-8864-7834200a2392",
   "metadata": {},
   "outputs": [
    {
     "name": "stdout",
     "output_type": "stream",
     "text": [
      "[[0 0 0 0]\n",
      " [0 0 0 0]\n",
      " [0 0 0 0]\n",
      " [0 0 0 0]]\n"
     ]
    }
   ],
   "source": [
    "print(np.zeros((4,4),dtype='int'))        #(4,4)--->(rows,column)"
   ]
  },
  {
   "cell_type": "code",
   "execution_count": 24,
   "id": "3bcab1ff-0b77-4c09-9ae8-6aa29ff2a1b9",
   "metadata": {},
   "outputs": [
    {
     "name": "stdout",
     "output_type": "stream",
     "text": [
      "[[0 0 0]\n",
      " [0 0 0]\n",
      " [0 0 0]\n",
      " [0 0 0]\n",
      " [0 0 0]]\n"
     ]
    }
   ],
   "source": [
    "print(np.zeros((5,3),dtype='int'))"
   ]
  },
  {
   "cell_type": "code",
   "execution_count": 25,
   "id": "81f5b2e1-cc60-4fac-8c3d-071bd9098e58",
   "metadata": {},
   "outputs": [
    {
     "name": "stdout",
     "output_type": "stream",
     "text": [
      "[[1 1]\n",
      " [1 1]\n",
      " [1 1]\n",
      " [1 1]]\n"
     ]
    }
   ],
   "source": [
    "print(np.ones((4,2),dtype='int'))"
   ]
  },
  {
   "cell_type": "code",
   "execution_count": 26,
   "id": "cbb16ede-e3f4-43c8-8188-7f7acfeb73fb",
   "metadata": {},
   "outputs": [
    {
     "name": "stdout",
     "output_type": "stream",
     "text": [
      "[[3 3 3]\n",
      " [3 3 3]\n",
      " [3 3 3]]\n"
     ]
    }
   ],
   "source": [
    "print(np.full((3,3),3))          #((3,3),3)-->((rows ,columns),print the no. 3)          "
   ]
  },
  {
   "cell_type": "code",
   "execution_count": 27,
   "id": "24b80c7b-8461-46a6-83ea-af6c697d341e",
   "metadata": {},
   "outputs": [
    {
     "name": "stdout",
     "output_type": "stream",
     "text": [
      "[0 1 2 3 4 5 6 7 8 9]\n"
     ]
    }
   ],
   "source": [
    "print(np.arange(10))               #np.arange(stop)"
   ]
  },
  {
   "cell_type": "code",
   "execution_count": 28,
   "id": "ac68790b-f09d-4145-9d52-21c9567d594d",
   "metadata": {},
   "outputs": [
    {
     "name": "stdout",
     "output_type": "stream",
     "text": [
      "[2 3 4 5 6 7 8 9]\n"
     ]
    }
   ],
   "source": [
    "print(np.arange(2,10))            #np.arange(start,stop)"
   ]
  },
  {
   "cell_type": "code",
   "execution_count": 29,
   "id": "a3a80952-f973-44dc-8c69-ae43736d9f90",
   "metadata": {},
   "outputs": [
    {
     "name": "stdout",
     "output_type": "stream",
     "text": [
      "[2 5 8]\n"
     ]
    }
   ],
   "source": [
    "print(np.arange(2,10,3))          #np.arange(start,stop,step)"
   ]
  },
  {
   "cell_type": "code",
   "execution_count": null,
   "id": "9954b891-599a-42be-81a0-e4eb9e617cf6",
   "metadata": {},
   "outputs": [],
   "source": []
  },
  {
   "cell_type": "code",
   "execution_count": 30,
   "id": "36d776e9-8891-4c32-9799-aa0520ed4584",
   "metadata": {},
   "outputs": [
    {
     "name": "stdout",
     "output_type": "stream",
     "text": [
      "[ 6  9 12 10]\n"
     ]
    }
   ],
   "source": [
    "#mathematical multiplication\n",
    "\n",
    "a=np.array([1,2,3,4])\n",
    "b=np.array([5,7,9,6])\n",
    "print(np.add(a,b))\n"
   ]
  },
  {
   "cell_type": "code",
   "execution_count": 31,
   "id": "b6ccae64-e5b3-40ed-9c8b-48036909e58e",
   "metadata": {},
   "outputs": [
    {
     "name": "stdout",
     "output_type": "stream",
     "text": [
      "[-4 -5 -6 -2]\n"
     ]
    }
   ],
   "source": [
    "print(np.subtract(a,b))"
   ]
  },
  {
   "cell_type": "code",
   "execution_count": 32,
   "id": "d17c2477-5256-4baa-bf28-727ac70b3596",
   "metadata": {},
   "outputs": [
    {
     "name": "stdout",
     "output_type": "stream",
     "text": [
      "[ 5 14 27 24]\n"
     ]
    }
   ],
   "source": [
    "print(np.multiply(a,b))"
   ]
  },
  {
   "cell_type": "code",
   "execution_count": 33,
   "id": "097c9d49-60c4-4b0e-aa62-53c715451015",
   "metadata": {},
   "outputs": [
    {
     "name": "stdout",
     "output_type": "stream",
     "text": [
      "[0.2        0.28571429 0.33333333 0.66666667]\n"
     ]
    }
   ],
   "source": [
    "print(np.divide(a,b))"
   ]
  },
  {
   "cell_type": "code",
   "execution_count": null,
   "id": "4c7a1c0e-8082-429f-a260-8a1ea3048b04",
   "metadata": {},
   "outputs": [],
   "source": []
  },
  {
   "cell_type": "code",
   "execution_count": 34,
   "id": "3221f254-934e-44c5-b359-80db0ea1083a",
   "metadata": {},
   "outputs": [
    {
     "name": "stdout",
     "output_type": "stream",
     "text": [
      "[15 40]\n",
      "[ 7  9 11 13 15]\n",
      "[3.5 4.5 5.5 6.5 7.5]\n",
      "[3. 8.]\n"
     ]
    }
   ],
   "source": [
    "arr1=np.array([[1,2,3,4,5],[6,7,8,9,10]])\n",
    "\n",
    "print(np.sum(arr1,axis=1))    #Column(Horizontally) wise Sum up\n",
    "print(np.sum(arr1,axis=0))    #Row(Vertically) wise Sum up\n",
    "print(np.mean(arr1,axis=0))  \n",
    "                  #Average(mean) of each column-->axis=0\n",
    "print(np.mean(arr1,axis=1))  \n",
    "                  #Average(mean) of each row-->axis=1\n"
   ]
  },
  {
   "cell_type": "code",
   "execution_count": null,
   "id": "ccaac8eb-2ab6-4293-8f6c-3c747ed04d0e",
   "metadata": {},
   "outputs": [],
   "source": []
  },
  {
   "cell_type": "code",
   "execution_count": 35,
   "id": "2c49470e-aef5-4a78-af5c-a4561851dc9c",
   "metadata": {},
   "outputs": [
    {
     "name": "stdout",
     "output_type": "stream",
     "text": [
      "[[0.79349968 0.29113273 0.25573358 0.6124231 ]\n",
      " [0.15444206 0.5527579  0.38046258 0.38518997]]\n"
     ]
    }
   ],
   "source": [
    "d=np.random.random((2,4))        #Give the Random Value   (2,4)--->(row,column)\n",
    "print(d)"
   ]
  },
  {
   "cell_type": "code",
   "execution_count": 36,
   "id": "b5e7e378-df07-45f3-98fd-fbf96984c503",
   "metadata": {},
   "outputs": [
    {
     "name": "stdout",
     "output_type": "stream",
     "text": [
      "[[50 48 62 52 52]\n",
      " [22 29 71 26 77]\n",
      " [41 52 52 28 91]\n",
      " [73 82 35 75 15]]\n"
     ]
    }
   ],
   "source": [
    "#random integer values array within a specific range\n",
    "\n",
    "c=np.random.randint(10,100,(4,5))    # (10,100,(3,5))--->(Take the random integer value between 10-100,(row,column))           \n",
    "print(c)"
   ]
  },
  {
   "cell_type": "code",
   "execution_count": 37,
   "id": "83318157-c852-4196-8407-f759b115e818",
   "metadata": {},
   "outputs": [
    {
     "name": "stdout",
     "output_type": "stream",
     "text": [
      "(4, 5)\n"
     ]
    }
   ],
   "source": [
    "#array dimension\n",
    "print(c.shape)"
   ]
  },
  {
   "cell_type": "code",
   "execution_count": 38,
   "id": "11cfd3a9-4f89-493c-948b-1d62bebfa006",
   "metadata": {},
   "outputs": [
    {
     "name": "stdout",
     "output_type": "stream",
     "text": [
      "2\n"
     ]
    }
   ],
   "source": [
    "print(c.ndim)"
   ]
  },
  {
   "cell_type": "code",
   "execution_count": 39,
   "id": "d357d386-9408-461b-95c6-559d11dee34b",
   "metadata": {},
   "outputs": [
    {
     "name": "stdout",
     "output_type": "stream",
     "text": [
      "20\n"
     ]
    }
   ],
   "source": [
    "#number of elements in array\n",
    "\n",
    "print(c.size)"
   ]
  },
  {
   "cell_type": "code",
   "execution_count": 40,
   "id": "4005f7c9-f68f-45d2-8977-b1d55bc8ebde",
   "metadata": {},
   "outputs": [
    {
     "name": "stdout",
     "output_type": "stream",
     "text": [
      "int32\n"
     ]
    }
   ],
   "source": [
    "#Checking the datatype of the values in an array\n",
    "\n",
    "print(c.dtype)"
   ]
  },
  {
   "cell_type": "code",
   "execution_count": 41,
   "id": "2871eb97-fb9c-4aca-811b-2c6fcfb59d6c",
   "metadata": {},
   "outputs": [
    {
     "name": "stdout",
     "output_type": "stream",
     "text": [
      "[10. 14. 18. 22. 26. 30.]\n"
     ]
    }
   ],
   "source": [
    "#Array of evenly spaced values--->Specifying the no. of values required\n",
    "\n",
    "d=np.linspace(10,30,6)\n",
    "print(d)"
   ]
  },
  {
   "cell_type": "code",
   "execution_count": null,
   "id": "dc8e4bdb-1d38-4f78-82d7-01c30af2115f",
   "metadata": {},
   "outputs": [],
   "source": []
  },
  {
   "cell_type": "code",
   "execution_count": null,
   "id": "97e5f401-876f-4f9b-93a7-844a9b2176bd",
   "metadata": {},
   "outputs": [],
   "source": []
  },
  {
   "cell_type": "code",
   "execution_count": 42,
   "id": "e5b044f8-82d3-4882-bbbf-f4ace6b02782",
   "metadata": {},
   "outputs": [
    {
     "name": "stdout",
     "output_type": "stream",
     "text": [
      "[10 20 20 20 50]\n"
     ]
    },
    {
     "data": {
      "text/plain": [
       "numpy.ndarray"
      ]
     },
     "execution_count": 42,
     "metadata": {},
     "output_type": "execute_result"
    }
   ],
   "source": [
    "#Convert the List to a numpy array\n",
    "\n",
    "list=[10,20,20,20,50]\n",
    "np_array=np.asarray(list)\n",
    "print(np_array)\n",
    "type(np_array)"
   ]
  },
  {
   "cell_type": "code",
   "execution_count": 43,
   "id": "d3a4c648-4241-4c68-b5af-19ea725ef6c4",
   "metadata": {},
   "outputs": [
    {
     "name": "stdout",
     "output_type": "stream",
     "text": [
      "[[80 46 46 87 59]\n",
      " [54 85 81 78 81]\n",
      " [40 76 49 49 13]\n",
      " [21 11 70 18 86]\n",
      " [74 75 35 11 48]]\n"
     ]
    }
   ],
   "source": [
    "c=np.random.randint(10,90,(5,5))\n",
    "print(c)"
   ]
  }
 ],
 "metadata": {
  "kernelspec": {
   "display_name": "Python 3 (ipykernel)",
   "language": "python",
   "name": "python3"
  },
  "language_info": {
   "codemirror_mode": {
    "name": "ipython",
    "version": 3
   },
   "file_extension": ".py",
   "mimetype": "text/x-python",
   "name": "python",
   "nbconvert_exporter": "python",
   "pygments_lexer": "ipython3",
   "version": "3.12.7"
  }
 },
 "nbformat": 4,
 "nbformat_minor": 5
}
